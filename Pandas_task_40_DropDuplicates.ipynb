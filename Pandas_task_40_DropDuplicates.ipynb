{
 "cells": [
  {
   "cell_type": "code",
   "execution_count": null,
   "metadata": {},
   "outputs": [],
   "source": [
    "\n",
    "# Example 40: Pandas - Using drop_duplicates() for Unique Rows"
   ]
  },
  {
   "cell_type": "code",
   "execution_count": 1,
   "metadata": {},
   "outputs": [
    {
     "name": "stdout",
     "output_type": "stream",
     "text": [
      "DataFrame after Dropping Duplicates:\n",
      "       Name  Score\n",
      "0    Alice     85\n",
      "1      Bob     70\n",
      "3  Charlie     95\n"
     ]
    }
   ],
   "source": [
    "import pandas as pd\n",
    "\n",
    "# Creating a DataFrame with duplicate rows\n",
    "data = {'Name': ['Alice', 'Bob', 'Alice', 'Charlie'], 'Score': [85, 70, 85, 95]}\n",
    "df = pd.DataFrame(data)\n",
    "\n",
    "# Dropping duplicate rows\n",
    "unique_df = df.drop_duplicates()\n",
    "\n",
    "print('DataFrame after Dropping Duplicates:\\n', unique_df)"
   ]
  }
 ],
 "metadata": {
  "kernelspec": {
   "display_name": "Python 3",
   "language": "python",
   "name": "python3"
  },
  "language_info": {
   "codemirror_mode": {
    "name": "ipython",
    "version": 3
   },
   "file_extension": ".py",
   "mimetype": "text/x-python",
   "name": "python",
   "nbconvert_exporter": "python",
   "pygments_lexer": "ipython3",
   "version": "3.12.1"
  }
 },
 "nbformat": 4,
 "nbformat_minor": 2
}
