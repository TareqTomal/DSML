{
 "cells": [
  {
   "cell_type": "code",
   "execution_count": 4,
   "metadata": {},
   "outputs": [],
   "source": [
    "\n",
    "## Example 34: Pandas - Adding a Prefix or Suffix to Column Names"
   ]
  },
  {
   "cell_type": "code",
   "execution_count": 3,
   "metadata": {},
   "outputs": [
    {
     "name": "stdout",
     "output_type": "stream",
     "text": [
      "DataFrame with Prefix:\n",
      "    Grade_Math  Grade_Science\n",
      "0          90             85\n",
      "1          80             88\n",
      "DataFrame with Suffix:\n",
      "    Math_Score  Science_Score\n",
      "0          90             85\n",
      "1          80             88\n"
     ]
    }
   ],
   "source": [
    "import pandas as pd\n",
    "\n",
    "# Creating a DataFrame\n",
    "data = {'Math': [90, 80], 'Science': [85, 88]}\n",
    "df = pd.DataFrame(data)\n",
    "\n",
    "# Adding a prefix to column names\n",
    "df_prefixed = df.add_prefix('Grade_')\n",
    "\n",
    "# Adding a suffix to column names\n",
    "df_suffixed = df.add_suffix('_Score')\n",
    "\n",
    "print('DataFrame with Prefix:\\n', df_prefixed)\n",
    "print('DataFrame with Suffix:\\n', df_suffixed)"
   ]
  },
  {
   "cell_type": "code",
   "execution_count": null,
   "metadata": {},
   "outputs": [],
   "source": []
  }
 ],
 "metadata": {
  "kernelspec": {
   "display_name": "Python 3",
   "language": "python",
   "name": "python3"
  },
  "language_info": {
   "codemirror_mode": {
    "name": "ipython",
    "version": 3
   },
   "file_extension": ".py",
   "mimetype": "text/x-python",
   "name": "python",
   "nbconvert_exporter": "python",
   "pygments_lexer": "ipython3",
   "version": "3.12.1"
  }
 },
 "nbformat": 4,
 "nbformat_minor": 2
}
