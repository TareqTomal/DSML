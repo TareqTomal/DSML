{
 "cells": [
  {
   "cell_type": "code",
   "execution_count": null,
   "metadata": {},
   "outputs": [],
   "source": [
    "# Example 19: Pandas - Using Explode for Lists in Columns"
   ]
  },
  {
   "cell_type": "code",
   "execution_count": 1,
   "metadata": {},
   "outputs": [
    {
     "name": "stdout",
     "output_type": "stream",
     "text": [
      "DataFrame after Exploding Lists:\n",
      "    ID   Hobbies\n",
      "0   1   Reading\n",
      "0   1  Swimming\n",
      "1   2   Running\n",
      "1   2   Cycling\n"
     ]
    }
   ],
   "source": [
    "\n",
    "import pandas as pd\n",
    "\n",
    "# Creating a DataFrame with lists in a column\n",
    "data = {'ID': [1, 2], 'Hobbies': [['Reading', 'Swimming'], ['Running', 'Cycling']]}\n",
    "df = pd.DataFrame(data)\n",
    "\n",
    "# Exploding the 'Hobbies' column\n",
    "exploded_df = df.explode('Hobbies')\n",
    "\n",
    "print('DataFrame after Exploding Lists:\\n', exploded_df)"
   ]
  }
 ],
 "metadata": {
  "kernelspec": {
   "display_name": "Python 3",
   "language": "python",
   "name": "python3"
  },
  "language_info": {
   "codemirror_mode": {
    "name": "ipython",
    "version": 3
   },
   "file_extension": ".py",
   "mimetype": "text/x-python",
   "name": "python",
   "nbconvert_exporter": "python",
   "pygments_lexer": "ipython3",
   "version": "3.12.1"
  }
 },
 "nbformat": 4,
 "nbformat_minor": 2
}
