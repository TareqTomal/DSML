{
 "cells": [
  {
   "cell_type": "code",
   "execution_count": null,
   "metadata": {},
   "outputs": [],
   "source": [
    "# Example 13: Pandas - Cumulative Sum and Product"
   ]
  },
  {
   "cell_type": "code",
   "execution_count": null,
   "metadata": {},
   "outputs": [
    {
     "name": "stdout",
     "output_type": "stream",
     "text": [
      "DataFrame with Cumulative Operations:\n",
      "    Sales  Cumulative Sum  Cumulative Product\n",
      "0    100             100                 100\n",
      "1    200             300               20000\n",
      "2    150             450             3000000\n",
      "3    300             750           900000000\n",
      "4    250            1000        225000000000\n"
     ]
    }
   ],
   "source": [
    "import pandas as pd\n",
    "\n",
    "# Creating a DataFrame\n",
    "data = {'Sales': [100, 200, 150, 300, 250]}\n",
    "df = pd.DataFrame(data)\n",
    "\n",
    "# Calculating cumulative sum and product\n",
    "df['Cumulative Sum'] = df['Sales'].cumsum()\n",
    "df['Cumulative Product'] = df['Sales'].cumprod()\n",
    "\n",
    "print('DataFrame with Cumulative Operations:\\n', df)\n"
   ]
  }
 ],
 "metadata": {
  "kernelspec": {
   "display_name": "Python 3",
   "language": "python",
   "name": "python3"
  },
  "language_info": {
   "codemirror_mode": {
    "name": "ipython",
    "version": 3
   },
   "file_extension": ".py",
   "mimetype": "text/x-python",
   "name": "python",
   "nbconvert_exporter": "python",
   "pygments_lexer": "ipython3",
   "version": "3.12.1"
  }
 },
 "nbformat": 4,
 "nbformat_minor": 2
}
