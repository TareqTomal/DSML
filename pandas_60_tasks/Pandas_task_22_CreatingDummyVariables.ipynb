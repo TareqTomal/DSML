{
 "cells": [
  {
   "cell_type": "code",
   "execution_count": null,
   "metadata": {},
   "outputs": [],
   "source": [
    "# Example 22: Pandas - Creating Dummy Variables"
   ]
  },
  {
   "cell_type": "code",
   "execution_count": 1,
   "metadata": {},
   "outputs": [
    {
     "name": "stdout",
     "output_type": "stream",
     "text": [
      "Dummy Variables DataFrame:\n",
      "    City_LA  City_NY  City_SF\n",
      "0    False     True    False\n",
      "1     True    False    False\n",
      "2    False    False     True\n",
      "3    False     True    False\n"
     ]
    }
   ],
   "source": [
    "import pandas as pd\n",
    "\n",
    "# Creating a DataFrame\n",
    "data = {'City': ['NY', 'LA', 'SF', 'NY']}\n",
    "df = pd.DataFrame(data)\n",
    "\n",
    "# Creating dummy variables\n",
    "dummies = pd.get_dummies(df['City'], prefix='City')\n",
    "\n",
    "print('Dummy Variables DataFrame:\\n', dummies)"
   ]
  }
 ],
 "metadata": {
  "kernelspec": {
   "display_name": "Python 3",
   "language": "python",
   "name": "python3"
  },
  "language_info": {
   "codemirror_mode": {
    "name": "ipython",
    "version": 3
   },
   "file_extension": ".py",
   "mimetype": "text/x-python",
   "name": "python",
   "nbconvert_exporter": "python",
   "pygments_lexer": "ipython3",
   "version": "3.12.1"
  }
 },
 "nbformat": 4,
 "nbformat_minor": 2
}
