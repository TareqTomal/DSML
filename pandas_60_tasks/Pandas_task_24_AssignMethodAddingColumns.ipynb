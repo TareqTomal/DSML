{
 "cells": [
  {
   "cell_type": "code",
   "execution_count": null,
   "metadata": {},
   "outputs": [],
   "source": [
    "# Example 24: Pandas - Assign Method for Adding Columns"
   ]
  },
  {
   "cell_type": "code",
   "execution_count": null,
   "metadata": {},
   "outputs": [
    {
     "name": "stdout",
     "output_type": "stream",
     "text": [
      "DataFrame with Assigned Grade Column:\n",
      "       Name  Score Grade\n",
      "0    Alice     85     B\n",
      "1      Bob     90     A\n",
      "2  Charlie     95     A\n"
     ]
    }
   ],
   "source": [
    "import pandas as pd\n",
    "\n",
    "# Creating a DataFrame\n",
    "data = {'Name': ['Alice', 'Bob', 'Charlie'], 'Score': [85, 90, 95]}\n",
    "df = pd.DataFrame(data)\n",
    "\n",
    "# Adding a new column using assign\n",
    "df = df.assign(Grade=lambda x: ['A' if score >= 90 else 'B' for score in x['Score']])\n",
    "\n",
    "print('DataFrame with Assigned Grade Column:\\n', df)"
   ]
  }
 ],
 "metadata": {
  "kernelspec": {
   "display_name": "Python 3",
   "language": "python",
   "name": "python3"
  },
  "language_info": {
   "codemirror_mode": {
    "name": "ipython",
    "version": 3
   },
   "file_extension": ".py",
   "mimetype": "text/x-python",
   "name": "python",
   "nbconvert_exporter": "python",
   "pygments_lexer": "ipython3",
   "version": "3.12.1"
  }
 },
 "nbformat": 4,
 "nbformat_minor": 2
}
