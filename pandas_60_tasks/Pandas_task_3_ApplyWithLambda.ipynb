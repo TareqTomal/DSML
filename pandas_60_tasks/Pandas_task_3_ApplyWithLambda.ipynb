{
 "cells": [
  {
   "cell_type": "code",
   "execution_count": null,
   "metadata": {},
   "outputs": [],
   "source": [
    "# Example 3: Pandas - Using Apply with Lambda Functions"
   ]
  },
  {
   "cell_type": "code",
   "execution_count": 1,
   "metadata": {},
   "outputs": [
    {
     "name": "stdout",
     "output_type": "stream",
     "text": [
      "DataFrame with Adjusted Scores:\n",
      "       Name  Score  Adjusted Score\n",
      "0    Alice     85              90\n",
      "1      Bob     90              90\n",
      "2  Charlie     95              95\n"
     ]
    }
   ],
   "source": [
    "import pandas as pd\n",
    "\n",
    "# Creating a DataFrame\n",
    "data = {'Name': ['Alice', 'Bob', 'Charlie'], 'Score': [85, 90, 95]}\n",
    "df = pd.DataFrame(data)\n",
    "\n",
    "# Applying a lambda function to modify scores\n",
    "df['Adjusted Score'] = df['Score'].apply(lambda x: x + 5 if x < 90 else x)\n",
    "\n",
    "print('DataFrame with Adjusted Scores:\\n', df)"
   ]
  }
 ],
 "metadata": {
  "kernelspec": {
   "display_name": "Python 3",
   "language": "python",
   "name": "python3"
  },
  "language_info": {
   "codemirror_mode": {
    "name": "ipython",
    "version": 3
   },
   "file_extension": ".py",
   "mimetype": "text/x-python",
   "name": "python",
   "nbconvert_exporter": "python",
   "pygments_lexer": "ipython3",
   "version": "3.12.1"
  }
 },
 "nbformat": 4,
 "nbformat_minor": 2
}
