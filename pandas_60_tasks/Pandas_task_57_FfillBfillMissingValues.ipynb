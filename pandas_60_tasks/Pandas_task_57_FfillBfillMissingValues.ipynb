{
 "cells": [
  {
   "cell_type": "code",
   "execution_count": null,
   "metadata": {},
   "outputs": [],
   "source": [
    "\n",
    "# Example 57: Pandas - Using ffill and bfill for Missing Values"
   ]
  },
  {
   "cell_type": "code",
   "execution_count": 2,
   "metadata": {},
   "outputs": [
    {
     "name": "stdout",
     "output_type": "stream",
     "text": [
      "     A    B\n",
      "0  1.0  4.0\n",
      "1  NaN  5.0\n",
      "2  3.0  NaN\n",
      "DataFrame with Forward Fill:\n",
      "      A    B\n",
      "0  1.0  4.0\n",
      "1  1.0  5.0\n",
      "2  3.0  5.0\n",
      "DataFrame with Backward Fill:\n",
      "      A    B\n",
      "0  1.0  4.0\n",
      "1  3.0  5.0\n",
      "2  3.0  NaN\n"
     ]
    },
    {
     "name": "stderr",
     "output_type": "stream",
     "text": [
      "/tmp/ipykernel_43521/3427857913.py:9: FutureWarning: DataFrame.fillna with 'method' is deprecated and will raise in a future version. Use obj.ffill() or obj.bfill() instead.\n",
      "  df_ffill = df.fillna(method='ffill')\n",
      "/tmp/ipykernel_43521/3427857913.py:10: FutureWarning: DataFrame.fillna with 'method' is deprecated and will raise in a future version. Use obj.ffill() or obj.bfill() instead.\n",
      "  df_bfill = df.fillna(method='bfill')\n"
     ]
    }
   ],
   "source": [
    "import pandas as pd\n",
    "import numpy as np\n",
    "\n",
    "# Creating a DataFrame with missing values\n",
    "data = {'A': [1, np.nan, 3], 'B': [4, 5, np.nan]}\n",
    "df = pd.DataFrame(data)\n",
    "print(df)\n",
    "# Using ffill and bfill to fill missing values\n",
    "df_ffill = df.fillna(method='ffill')\n",
    "df_bfill = df.fillna(method='bfill')\n",
    "\n",
    "print('DataFrame with Forward Fill:\\n', df_ffill)\n",
    "print('DataFrame with Backward Fill:\\n', df_bfill)\n"
   ]
  }
 ],
 "metadata": {
  "kernelspec": {
   "display_name": "Python 3",
   "language": "python",
   "name": "python3"
  },
  "language_info": {
   "codemirror_mode": {
    "name": "ipython",
    "version": 3
   },
   "file_extension": ".py",
   "mimetype": "text/x-python",
   "name": "python",
   "nbconvert_exporter": "python",
   "pygments_lexer": "ipython3",
   "version": "3.12.1"
  }
 },
 "nbformat": 4,
 "nbformat_minor": 2
}
