{
 "cells": [
  {
   "cell_type": "code",
   "execution_count": null,
   "metadata": {},
   "outputs": [],
   "source": [
    "\n",
    "# Example 31: Pandas - Using explode() for Nested JSON Columns"
   ]
  },
  {
   "cell_type": "code",
   "execution_count": 1,
   "metadata": {},
   "outputs": [
    {
     "name": "stdout",
     "output_type": "stream",
     "text": [
      "DataFrame after Exploding Nested JSON Column:\n",
      "    ID   Hobbies\n",
      "0   1   Reading\n",
      "0   1  Swimming\n",
      "0   1    Gaming\n",
      "1   2    Hiking\n",
      "1   2   Drawing\n"
     ]
    }
   ],
   "source": [
    "import pandas as pd\n",
    "\n",
    "# Creating a DataFrame with nested lists\n",
    "data = {'ID': [1, 2], 'Hobbies': [['Reading', 'Swimming', 'Gaming'], ['Hiking', 'Drawing']]}\n",
    "df = pd.DataFrame(data)\n",
    "\n",
    "# Exploding the 'Hobbies' column\n",
    "exploded_df = df.explode('Hobbies')\n",
    "\n",
    "print('DataFrame after Exploding Nested JSON Column:\\n', exploded_df)"
   ]
  }
 ],
 "metadata": {
  "kernelspec": {
   "display_name": "Python 3",
   "language": "python",
   "name": "python3"
  },
  "language_info": {
   "codemirror_mode": {
    "name": "ipython",
    "version": 3
   },
   "file_extension": ".py",
   "mimetype": "text/x-python",
   "name": "python",
   "nbconvert_exporter": "python",
   "pygments_lexer": "ipython3",
   "version": "3.12.1"
  }
 },
 "nbformat": 4,
 "nbformat_minor": 2
}
