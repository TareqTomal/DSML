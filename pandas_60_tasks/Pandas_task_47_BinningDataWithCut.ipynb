{
 "cells": [
  {
   "cell_type": "code",
   "execution_count": null,
   "metadata": {},
   "outputs": [],
   "source": [
    "# Example 47: Pandas - Using pd.cut for Binning Data"
   ]
  },
  {
   "cell_type": "code",
   "execution_count": 3,
   "metadata": {},
   "outputs": [
    {
     "name": "stdout",
     "output_type": "stream",
     "text": [
      "DataFrame with Binned Scores:\n",
      "    Scores Grade\n",
      "0      50     F\n",
      "1      60     D\n",
      "2      70     C\n",
      "3      80     B\n",
      "4      90     A\n",
      "5     100     A\n"
     ]
    }
   ],
   "source": [
    "# Example 47: Pandas - Using pd.cut for Binning Data\n",
    "import pandas as pd\n",
    "\n",
    "# Creating a DataFrame\n",
    "data = {'Scores': [50, 60, 70, 80, 90, 100]}\n",
    "df = pd.DataFrame(data)\n",
    "\n",
    "# Binning the scores into categories\n",
    "df['Grade'] = pd.cut(df['Scores'], bins=[0, 59, 69, 79, 89, 100], labels=['F', 'D', 'C', 'B', 'A'])\n",
    "\n",
    "print('DataFrame with Binned Scores:\\n', df)"
   ]
  }
 ],
 "metadata": {
  "kernelspec": {
   "display_name": "Python 3",
   "language": "python",
   "name": "python3"
  },
  "language_info": {
   "codemirror_mode": {
    "name": "ipython",
    "version": 3
   },
   "file_extension": ".py",
   "mimetype": "text/x-python",
   "name": "python",
   "nbconvert_exporter": "python",
   "pygments_lexer": "ipython3",
   "version": "3.12.1"
  }
 },
 "nbformat": 4,
 "nbformat_minor": 2
}
