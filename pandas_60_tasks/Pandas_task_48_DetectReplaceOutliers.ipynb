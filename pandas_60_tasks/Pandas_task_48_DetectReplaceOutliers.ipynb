{
 "cells": [
  {
   "cell_type": "code",
   "execution_count": null,
   "metadata": {},
   "outputs": [],
   "source": [
    "\n",
    "# Example 48: Pandas - Detecting and Replacing Outliers"
   ]
  },
  {
   "cell_type": "code",
   "execution_count": 3,
   "metadata": {},
   "outputs": [
    {
     "name": "stdout",
     "output_type": "stream",
     "text": [
      "DataFrame after Replacing Outliers:\n",
      "    Values\n",
      "0      10\n",
      "1      12\n",
      "2      14\n",
      "3      13\n",
      "4      15\n",
      "5      13\n",
      "6      12\n"
     ]
    }
   ],
   "source": [
    "import pandas as pd\n",
    "import numpy as np\n",
    "\n",
    "# Creating a DataFrame\n",
    "data = {'Values': [10, 12, 14, 100, 15, 13, 12]}\n",
    "df = pd.DataFrame(data)\n",
    "\n",
    "# Detecting outliers using the IQR method\n",
    "Q1 = df['Values'].quantile(0.25)\n",
    "Q3 = df['Values'].quantile(0.75)\n",
    "IQR = Q3 - Q1\n",
    "outliers = (df['Values'] < (Q1 - 1.5 * IQR)) | (df['Values'] > (Q3 + 1.5 * IQR))\n",
    "\n",
    "# Replacing outliers with the median\n",
    "df.loc[outliers, 'Values'] = df['Values'].median()\n",
    "\n",
    "print('DataFrame after Replacing Outliers:\\n', df)"
   ]
  }
 ],
 "metadata": {
  "kernelspec": {
   "display_name": "Python 3",
   "language": "python",
   "name": "python3"
  },
  "language_info": {
   "codemirror_mode": {
    "name": "ipython",
    "version": 3
   },
   "file_extension": ".py",
   "mimetype": "text/x-python",
   "name": "python",
   "nbconvert_exporter": "python",
   "pygments_lexer": "ipython3",
   "version": "3.12.1"
  }
 },
 "nbformat": 4,
 "nbformat_minor": 2
}
