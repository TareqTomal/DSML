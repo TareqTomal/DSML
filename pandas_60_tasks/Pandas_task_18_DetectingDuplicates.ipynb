{
 "cells": [
  {
   "cell_type": "code",
   "execution_count": null,
   "metadata": {},
   "outputs": [],
   "source": [
    "\n",
    "# Example 18: Pandas - Detecting Duplicates"
   ]
  },
  {
   "cell_type": "code",
   "execution_count": 1,
   "metadata": {},
   "outputs": [
    {
     "name": "stdout",
     "output_type": "stream",
     "text": [
      "Duplicate Rows:\n",
      "    ID  Value\n",
      "2   2     20\n",
      "5   4     40\n"
     ]
    }
   ],
   "source": [
    "import pandas as pd\n",
    "\n",
    "# Creating a DataFrame with duplicate rows\n",
    "data = {'ID': [1, 2, 2, 3, 4, 4], 'Value': [10, 20, 20, 30, 40, 40]}\n",
    "df = pd.DataFrame(data)\n",
    "\n",
    "# Detecting duplicates\n",
    "duplicates = df[df.duplicated()]\n",
    "\n",
    "print('Duplicate Rows:\\n', duplicates)"
   ]
  }
 ],
 "metadata": {
  "kernelspec": {
   "display_name": "Python 3",
   "language": "python",
   "name": "python3"
  },
  "language_info": {
   "codemirror_mode": {
    "name": "ipython",
    "version": 3
   },
   "file_extension": ".py",
   "mimetype": "text/x-python",
   "name": "python",
   "nbconvert_exporter": "python",
   "pygments_lexer": "ipython3",
   "version": "3.12.1"
  }
 },
 "nbformat": 4,
 "nbformat_minor": 2
}
