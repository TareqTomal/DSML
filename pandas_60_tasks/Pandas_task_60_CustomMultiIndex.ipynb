{
 "cells": [
  {
   "cell_type": "code",
   "execution_count": 1,
   "metadata": {},
   "outputs": [],
   "source": [
    "# Example 60: Pandas - Creating Custom Indexes with MultiIndex"
   ]
  },
  {
   "cell_type": "code",
   "execution_count": 4,
   "metadata": {},
   "outputs": [
    {
     "name": "stdout",
     "output_type": "stream",
     "text": [
      "DataFrame with Custom MultiIndex:\n",
      "                Sales\n",
      "Category Year       \n",
      "A        2020    100\n",
      "         2021    150\n",
      "B        2020    200\n",
      "         2021    250\n"
     ]
    }
   ],
   "source": [
    "import pandas as pd\n",
    "\n",
    "# Creating a MultiIndex from tuples\n",
    "index = pd.MultiIndex.from_tuples([('A', 2020), ('A', 2021), ('B', 2020), ('B', 2021)], names=['Category', 'Year'])\n",
    "data = [100, 150, 200, 250]\n",
    "\n",
    "df = pd.DataFrame(data, index=index, columns=['Sales'])\n",
    "\n",
    "print('DataFrame with Custom MultiIndex:\\n', df)\n"
   ]
  }
 ],
 "metadata": {
  "kernelspec": {
   "display_name": "Python 3",
   "language": "python",
   "name": "python3"
  },
  "language_info": {
   "codemirror_mode": {
    "name": "ipython",
    "version": 3
   },
   "file_extension": ".py",
   "mimetype": "text/x-python",
   "name": "python",
   "nbconvert_exporter": "python",
   "pygments_lexer": "ipython3",
   "version": "3.12.1"
  }
 },
 "nbformat": 4,
 "nbformat_minor": 2
}
