{
 "cells": [
  {
   "cell_type": "code",
   "execution_count": null,
   "metadata": {},
   "outputs": [],
   "source": [
    "# Example 41: Pandas - Combining DataFrames with Multi-level Indexes"
   ]
  },
  {
   "cell_type": "code",
   "execution_count": 3,
   "metadata": {},
   "outputs": [
    {
     "name": "stdout",
     "output_type": "stream",
     "text": [
      "Combined DataFrame with Multi-level Indexes:\n",
      "                Sales  Profit\n",
      "Category Year               \n",
      "A        2020    100     300\n",
      "         2021    150     400\n",
      "B        2020    200     500\n",
      "         2021    250     600\n"
     ]
    }
   ],
   "source": [
    "import pandas as pd\n",
    "\n",
    "# Creating DataFrames with MultiIndex\n",
    "arrays = [['A', 'A', 'B', 'B'], [2020, 2021, 2020, 2021]]\n",
    "index = pd.MultiIndex.from_arrays(arrays, names=('Category', 'Year'))\n",
    "data1 = [100, 150, 200, 250]\n",
    "df1 = pd.DataFrame(data1, index=index, columns=['Sales'])\n",
    "\n",
    "data2 = [300, 400, 500, 600]\n",
    "df2 = pd.DataFrame(data2, index=index, columns=['Profit'])\n",
    "\n",
    "# Combining DataFrames\n",
    "combined_df = pd.concat([df1, df2], axis=1)\n",
    "\n",
    "print('Combined DataFrame with Multi-level Indexes:\\n', combined_df)\n"
   ]
  }
 ],
 "metadata": {
  "kernelspec": {
   "display_name": "Python 3",
   "language": "python",
   "name": "python3"
  },
  "language_info": {
   "codemirror_mode": {
    "name": "ipython",
    "version": 3
   },
   "file_extension": ".py",
   "mimetype": "text/x-python",
   "name": "python",
   "nbconvert_exporter": "python",
   "pygments_lexer": "ipython3",
   "version": "3.12.1"
  }
 },
 "nbformat": 4,
 "nbformat_minor": 2
}
